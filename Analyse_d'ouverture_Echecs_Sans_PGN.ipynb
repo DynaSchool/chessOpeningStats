{
  "nbformat": 4,
  "nbformat_minor": 0,
  "metadata": {
    "colab": {
      "name": "Analyse d'ouverture Echecs - Sans PGN",
      "provenance": [],
      "authorship_tag": "ABX9TyPIV1CVLSdZuv1cfYNU82Wu",
      "include_colab_link": true
    },
    "kernelspec": {
      "name": "python3",
      "display_name": "Python 3"
    },
    "language_info": {
      "name": "python"
    }
  },
  "cells": [
    {
      "cell_type": "markdown",
      "metadata": {
        "id": "view-in-github",
        "colab_type": "text"
      },
      "source": [
        "<a href=\"https://colab.research.google.com/github/DynaSchool/chessOpeningStats/blob/main/Analyse_d'ouverture_Echecs_Sans_PGN.ipynb\" target=\"_parent\"><img src=\"https://colab.research.google.com/assets/colab-badge.svg\" alt=\"Open In Colab\"/></a>"
      ]
    },
    {
      "cell_type": "markdown",
      "metadata": {
        "id": "HR54Af3vZlYt"
      },
      "source": [
        "$$\\Huge\\text{Analyse d'ouvertures : Echecs & Pandas}$$"
      ]
    },
    {
      "cell_type": "code",
      "metadata": {
        "colab": {
          "base_uri": "https://localhost:8080/"
        },
        "id": "TEGQjpI_ZdvF",
        "outputId": "0d2aedc2-c3ff-4fa8-ec32-04f162ac8c88"
      },
      "source": [
        "!pip install python-lichess\n",
        "import lichess , lichess.api , lichess.format"
      ],
      "execution_count": 1,
      "outputs": [
        {
          "output_type": "stream",
          "name": "stdout",
          "text": [
            "Collecting python-lichess\n",
            "  Downloading python_lichess-0.10-py3-none-any.whl (21 kB)\n",
            "Requirement already satisfied: six in /usr/local/lib/python3.7/dist-packages (from python-lichess) (1.15.0)\n",
            "Requirement already satisfied: requests in /usr/local/lib/python3.7/dist-packages (from python-lichess) (2.23.0)\n",
            "Requirement already satisfied: chardet<4,>=3.0.2 in /usr/local/lib/python3.7/dist-packages (from requests->python-lichess) (3.0.4)\n",
            "Requirement already satisfied: certifi>=2017.4.17 in /usr/local/lib/python3.7/dist-packages (from requests->python-lichess) (2021.5.30)\n",
            "Requirement already satisfied: urllib3!=1.25.0,!=1.25.1,<1.26,>=1.21.1 in /usr/local/lib/python3.7/dist-packages (from requests->python-lichess) (1.24.3)\n",
            "Requirement already satisfied: idna<3,>=2.5 in /usr/local/lib/python3.7/dist-packages (from requests->python-lichess) (2.10)\n",
            "Installing collected packages: python-lichess\n",
            "Successfully installed python-lichess-0.10\n"
          ]
        }
      ]
    },
    {
      "cell_type": "code",
      "metadata": {
        "id": "p529FeA7eynz"
      },
      "source": [
        "# Magnus Carlsen\n",
        "#player = \"DrNykterstein\"\n",
        "#nParties = 10"
      ],
      "execution_count": null,
      "outputs": []
    },
    {
      "cell_type": "code",
      "metadata": {
        "id": "v2bCUtQ_ijFh"
      },
      "source": [
        "# Jerry from ChessNetwork https://www.youtube.com/channel/UCCDOQrpqLqKVcTCKzqarxLg\n",
        "player = \"Chess-Network\"\n",
        "nParties = 5"
      ],
      "execution_count": 2,
      "outputs": []
    },
    {
      "cell_type": "markdown",
      "metadata": {
        "id": "UbOC6kygznIZ"
      },
      "source": [
        "https://lichess.org/api#operation/apiGamesUser\n",
        "\n"
      ]
    },
    {
      "cell_type": "code",
      "metadata": {
        "id": "y2VIh0qIzm17"
      },
      "source": [
        ""
      ],
      "execution_count": null,
      "outputs": []
    },
    {
      "cell_type": "code",
      "metadata": {
        "id": "bNa7T_WzMHcC"
      },
      "source": [
        "Games = lichess.api.user_games( \n",
        "    player , \n",
        "    max=      nParties , \n",
        "    #format=   lichess.format.PGN ,\n",
        "    #perfType= (\"ultraBullet\" , \"bullet\" , \"blitz\" , \"rapid\" , \"classical\" )\n",
        "              # \"ultraBullet\" \"bullet\" \"blitz\" \"rapid\" \"classical\" \"correspondence\"\n",
        "              # \"chess960\" \"crazyhouse\" \"antichess\" \"atomic\" \"horde\" \"kingOfTheHill\" \"racingKings\" \"threeCheck\"\n",
        "  )"
      ],
      "execution_count": 3,
      "outputs": []
    },
    {
      "cell_type": "code",
      "metadata": {
        "colab": {
          "base_uri": "https://localhost:8080/"
        },
        "id": "RYplWhhfa49E",
        "outputId": "3a953ece-f397-4d7a-8d6a-9c1c4e5e4ebc"
      },
      "source": [
        "for game in Games : \n",
        "  print(game)"
      ],
      "execution_count": 4,
      "outputs": [
        {
          "output_type": "stream",
          "name": "stdout",
          "text": [
            "{'id': '4HfiKVBO', 'rated': True, 'variant': 'standard', 'speed': 'bullet', 'perf': 'bullet', 'createdAt': 1631178229296, 'lastMoveAt': 1631178343395, 'status': 'outoftime', 'players': {'white': {'user': {'name': 'Chess-Network', 'title': 'NM', 'patron': True, 'id': 'chess-network'}, 'rating': 2753, 'ratingDiff': 8}, 'black': {'user': {'name': 'Elda64', 'title': 'GM', 'patron': True, 'id': 'elda64'}, 'rating': 2883, 'ratingDiff': -8}}, 'winner': 'white', 'moves': 'd4 d5 Nf3 Nf6 Bf4 Bg4 Ne5 Bh5 c4 Nbd7 Qb3 Rb8 e3 e6 Nc3 Bd6 Bd3 O-O O-O dxc4 Bxc4 Bxe5 dxe5 Ne8 f3 Qe7 a3 Nb6 Be2 c6 Qb4 Qxb4 axb4 a6 e4 Nc7 Be3 Nd7 Rfd1 Nxe5 g4 Bg6 f4 Nxg4 Bxg4 h5 Bf3 f6 Bc5 Rfd8 Bd6 Rbc8 Bxc7 Rxd1+ Rxd1 Rxc7 Rd8+ Kh7 h4 b6 Na4 c5 bxc5 bxc5 e5 fxe5 fxe5 c4 Kf2 Bc2 Nc3 Bg6 Rd6 Bf5 Ke3 Rc5 Kd4 Ra5 Bxh5 Ra1 Bf7 Rh1 Bxe6 Rxh4+ Kd5 Bd3 Bf7 g5 Rf6 g4 e6 g3 e7 g2 e8=Q g1=Q Qe7', 'clock': {'initial': 60, 'increment': 0, 'totalTime': 60}}\n",
            "{'id': 'q7PlRaK8', 'rated': True, 'variant': 'standard', 'speed': 'bullet', 'perf': 'bullet', 'createdAt': 1631178104772, 'lastMoveAt': 1631178222879, 'status': 'mate', 'players': {'white': {'user': {'name': 'Elda64', 'title': 'GM', 'patron': True, 'id': 'elda64'}, 'rating': 2891, 'ratingDiff': -8}, 'black': {'user': {'name': 'Chess-Network', 'title': 'NM', 'patron': True, 'id': 'chess-network'}, 'rating': 2745, 'ratingDiff': 8}}, 'winner': 'black', 'moves': 'd4 Nf6 Nf3 d6 e3 Nbd7 c4 e5 Nc3 Be7 g3 O-O Bg2 c6 O-O e4 Nd2 d5 Rb1 Re8 b4 h5 b5 h4 bxc6 bxc6 Qa4 Qc7 cxd5 cxd5 Nb5 Qc6 Ba3 a6 Bxe7 axb5 Qb4 Ra4 Qd6 Qxd6 Bxd6 Rxa2 Rfd1 Nb6 Rxb5 Na4 Ra5 Bg4 Re1 h3 Bf1 Nc3 Rxa2 Nxa2 Nb3 Nc3 Rc1 Ne2+ Bxe2 Bxe2 Nc5 Ra8 Be5 Ng4 Rb1 Kh7 Nd7 f6 Bf4 g5 Bb8 Kg6 Bc7 Bd3 Rc1 Kf5 Nb6 Ra5 Nc8 Ra2 Nd6+ Kg6 Nc8 Rxf2 Ne7+ Kf7 Nxd5 Rg2+ Kh1 Nf2#', 'clock': {'initial': 60, 'increment': 0, 'totalTime': 60}}\n",
            "{'id': 'xWlVeJfl', 'rated': True, 'variant': 'standard', 'speed': 'bullet', 'perf': 'bullet', 'createdAt': 1631178054456, 'lastMoveAt': 1631178102925, 'status': 'resign', 'players': {'white': {'user': {'name': 'Chess-Network', 'title': 'NM', 'patron': True, 'id': 'chess-network'}, 'rating': 2749, 'ratingDiff': -4}, 'black': {'user': {'name': 'Elda64', 'title': 'GM', 'patron': True, 'id': 'elda64'}, 'rating': 2887, 'ratingDiff': 4}}, 'winner': 'black', 'moves': 'd4 e6 Nf3 d5 Bf4 Nf6 e3 Bd6 Bg3 Nc6 c4 O-O Nc3 b6 Rc1 Bb7 a3 Bxg3 hxg3 h6 b4 dxc4 Bxc4 Qd6 Qb3 a5 b5 Ne7 O-O Ned5 Rfd1 Nxc3 Qxc3 Rac8 Ne5 Rfd8 Qb2 c5 bxc6 Bxc6 Qxb6 Ba4 Re1 Qxb6', 'clock': {'initial': 60, 'increment': 0, 'totalTime': 60}}\n",
            "{'id': '3JkWI1kb', 'rated': True, 'variant': 'standard', 'speed': 'bullet', 'perf': 'bullet', 'createdAt': 1631177927507, 'lastMoveAt': 1631178053471, 'status': 'mate', 'players': {'white': {'user': {'name': 'Elda64', 'title': 'GM', 'patron': True, 'id': 'elda64'}, 'rating': 2895, 'ratingDiff': -8}, 'black': {'user': {'name': 'Chess-Network', 'title': 'NM', 'patron': True, 'id': 'chess-network'}, 'rating': 2741, 'ratingDiff': 8}}, 'winner': 'black', 'moves': 'd4 Nf6 Nf3 d6 e3 Nbd7 Bd3 e5 e4 exd4 c3 dxc3 O-O Be7 Nxc3 O-O Bg5 Nc5 Bc2 Bg4 h3 Bh5 Re1 c6 b4 Ncd7 Qd3 Re8 Rad1 Rc8 g4 Bg6 Nd4 Ne5 Qg3 h6 Bxf6 Bxf6 Nf5 Bxf5 gxf5 Kh8 Kh1 Qe7 Rg1 Rg8 Ne2 d5 exd5 cxd5 Nf4 Rxc2 Nxd5 Qd6 Qf4 Nc4 Qxd6 Nxd6 Nxf6 gxf6 Rxg8+ Kxg8 Rxd6 Rxf2 Rxf6 Kg7 Rd6 Rxa2 Rd7 b6 Rd6 Ra4 Rd4 a5 Rg4+ Kf6 Rh4 Rxb4 Rxh6+ Kxf5 Rh7 Kg6 Rh8 a4 Rg8+ Kf6 Ra8 b5 Kg2 Rb3 h4 a3 h5 b4 h6 Kg6 Ra6+ Kh7 Kf2 Rb2+ Kf3 a2 Kg4 b3 Kg5 Rb1 Ra7 a1=Q Rxf7+ Kg8 Rg7+ Qxg7+ hxg7 Kxg7 Kf5 b2 Kf4 Rc1 Ke4 Rc7 Ke3 b1=Q Kd2 Qb6 Kd3 Rc5 Ke4 Qb4+ Kd3 Rc3+ Ke2 Qb2+ Kd1 Rc1#', 'clock': {'initial': 60, 'increment': 0, 'totalTime': 60}}\n",
            "{'id': 'dNGWbr2j', 'rated': True, 'variant': 'standard', 'speed': 'bullet', 'perf': 'bullet', 'createdAt': 1631177804068, 'lastMoveAt': 1631177924262, 'status': 'outoftime', 'players': {'white': {'user': {'name': 'Chess-Network', 'title': 'NM', 'patron': True, 'id': 'chess-network'}, 'rating': 2732, 'ratingDiff': 9}, 'black': {'user': {'name': 'Elda64', 'title': 'GM', 'patron': True, 'id': 'elda64'}, 'rating': 2904, 'ratingDiff': -9}}, 'winner': 'white', 'moves': 'e4 c6 d3 d5 Nd2 e5 Ngf3 Nf6 Qe2 Bc5 exd5 O-O d6 Bxd6 Ne4 Nxe4 dxe4 Nd7 Bd2 Nf6 O-O-O Qc7 Bc3 Be6 Ng5 Bxa2 f4 a5 Nf3 Bb4 fxe5 Bxc3 exf6 Bxf6 e5 Be7 Qe3 a4 Bd3 Be6 Qe4 g6 h4 a3 bxa3 Rxa3 Kd2 Qa5+ Ke2 Bd5 Qf4 Rxd3 cxd3 Qa2+ Rd2 Qa7 h5 Qc5 Qh6 Bxf3+ gxf3 Qxe5+ Qe3 Qd6 d4 Bf6 hxg6 fxg6 d5 c5 Qe6+ Qxe6+ dxe6 Re8 Rd6 Be7 Rd7 Kg7 Kd3 Kf6 Re1 b5 Ke4 c4 Kd5 Rc8 Rc1 Rc5+ Kd4 Rf5 Rb7 Kxe6 Rb6+ Kf7 Re1 Bf6+ Ke4 g5 Rb7+ Kg6 Rxb5 Rf4+ Kd5 h5 Rb6 Rd4+ Kc5 Rd6 Rxd6 h4 Rxf6+ Kh5 Kd4 h3 Rh6+', 'clock': {'initial': 60, 'increment': 0, 'totalTime': 60}}\n"
          ]
        }
      ]
    },
    {
      "cell_type": "code",
      "metadata": {
        "id": "caNfOzhMbY0h"
      },
      "source": [
        "for game in Games : \n",
        "  print(game)"
      ],
      "execution_count": 5,
      "outputs": []
    },
    {
      "cell_type": "code",
      "metadata": {
        "id": "798GVgxObkyk"
      },
      "source": [
        ""
      ],
      "execution_count": null,
      "outputs": []
    }
  ]
}